{
 "cells": [
  {
   "cell_type": "markdown",
   "id": "8bb039dc",
   "metadata": {},
   "source": [
    "# Python Basics Tutorial\n",
    "Welcome to this beginner-friendly Python tutorial! This notebook will guide you through the fundamentals of Python programming, step by step.\n",
    "\n",
    "**Topics Covered:**\n",
    "1. Variables and Data Types\n",
    "2. Basic Operations\n",
    "3. Control Flow (`if`, `for`, `while`)\n",
    "4. Functions\n",
    "5. Lists and Dictionaries\n",
    "6. Simple Input/Output\n",
    "7. Basic Plotting with matplotlib"
   ]
  },
  {
   "cell_type": "markdown",
   "id": "060427e5",
   "metadata": {},
   "source": [
    "## 1. Variables and Data Types\n",
    "A **variable** stores information that can be used and changed in your program.\n",
    "\n",
    "**Common data types:**\n",
    "- `int` (integer): whole numbers, e.g., `5`\n",
    "- `float`: decimal numbers, e.g., `3.14`\n",
    "- `str` (string): text, e.g., \"hello\"\n",
    "- `bool`: `True` or `False`"
   ]
  },
  {
   "cell_type": "code",
   "execution_count": 1,
   "id": "6fc7b4d2",
   "metadata": {},
   "outputs": [
    {
     "name": "stdout",
     "output_type": "stream",
     "text": [
      "Name: Alice\n",
      "Age: 20\n",
      "Height: 1.75\n",
      "Is student? True\n"
     ]
    }
   ],
   "source": [
    "age = 20\n",
    "height = 1.75\n",
    "name = \"Alice\"\n",
    "is_student = True\n",
    "\n",
    "print(\"Name:\", name)\n",
    "print(\"Age:\", age)\n",
    "print(\"Height:\", height)\n",
    "print(\"Is student?\", is_student)"
   ]
  },
  {
   "cell_type": "markdown",
   "id": "cbd58ec5",
   "metadata": {},
   "source": [
    "**Exercise:**\n",
    "Create variables for your favorite color (string), your birth year (integer), and whether you like pizza (boolean). Print them out!"
   ]
  },
  {
   "cell_type": "markdown",
   "id": "30898d29",
   "metadata": {},
   "source": [
    "## 2. Basic Operations\n",
    "You can do math and combine strings in Python.\n",
    "\n",
    "**Arithmetic operators:** `+`, `-`, `*`, `/`, `//`, `%`, `**`\n",
    "\n",
    "**String concatenation:** Use `+` to join strings."
   ]
  },
  {
   "cell_type": "code",
   "execution_count": 2,
   "id": "5d38b31d",
   "metadata": {},
   "outputs": [
    {
     "name": "stdout",
     "output_type": "stream",
     "text": [
      "a + b = 13\n",
      "a / b = 3.3333333333333335\n",
      "a ** b = 1000\n",
      "Hello, Bob!\n"
     ]
    }
   ],
   "source": [
    "a = 10\n",
    "b = 3\n",
    "print(\"a + b =\", a + b)\n",
    "print(\"a / b =\", a / b)\n",
    "print(\"a ** b =\", a ** b)\n",
    "\n",
    "greeting = \"Hello\"\n",
    "name = \"Bob\"\n",
    "message = greeting + \", \" + name + \"!\"\n",
    "print(message)"
   ]
  },
  {
   "cell_type": "markdown",
   "id": "b37efdb3",
   "metadata": {},
   "source": [
    "**Exercise:**\n",
    "Calculate the area of a rectangle with width 7 and height 4. Print the result."
   ]
  },
  {
   "cell_type": "markdown",
   "id": "4547e2a5",
   "metadata": {},
   "source": [
    "## 3. Control Flow\n",
    "Python uses `if`, `for`, and `while` to control what your program does."
   ]
  },
  {
   "cell_type": "code",
   "execution_count": null,
   "id": "1e9ce64c",
   "metadata": {},
   "outputs": [],
   "source": [
    "x = 15\n",
    "if x > 10:\n",
    "    print(\"x is greater than 10\")\n",
    "else:\n",
    "    print(\"x is 10 or less\")"
   ]
  },
  {
   "cell_type": "code",
   "execution_count": null,
   "id": "f8666d30",
   "metadata": {},
   "outputs": [],
   "source": [
    "for i in range(5):\n",
    "    print(\"Iteration:\", i)"
   ]
  },
  {
   "cell_type": "code",
   "execution_count": null,
   "id": "2f03fa22",
   "metadata": {},
   "outputs": [],
   "source": [
    "count = 0\n",
    "while count < 3:\n",
    "    print(\"Counting:\", count)\n",
    "    count += 1"
   ]
  },
  {
   "cell_type": "markdown",
   "id": "24bd3561",
   "metadata": {},
   "source": [
    "**Exercise:**\n",
    "Write a loop that prints all even numbers from 2 to 10."
   ]
  },
  {
   "cell_type": "markdown",
   "id": "e1588a96",
   "metadata": {},
   "source": [
    "## 4. Functions\n",
    "A **function** is a reusable piece of code that does something.\n",
    "\n",
    "Define a function using `def`."
   ]
  },
  {
   "cell_type": "code",
   "execution_count": 3,
   "id": "4c99d870",
   "metadata": {},
   "outputs": [
    {
     "name": "stdout",
     "output_type": "stream",
     "text": [
      "Hello, Charlie\n"
     ]
    }
   ],
   "source": [
    "def greet(name):\n",
    "    print(\"Hello,\", name)\n",
    "\n",
    "greet(\"Charlie\")"
   ]
  },
  {
   "cell_type": "markdown",
   "id": "c5f0eb0b",
   "metadata": {},
   "source": [
    "**Exercise:**\n",
    "Write a function that takes two numbers and returns their sum."
   ]
  },
  {
   "cell_type": "markdown",
   "id": "d25734f9",
   "metadata": {},
   "source": [
    "## 5. Lists and Dictionaries\n",
    "- **List:** An ordered collection of items.\n",
    "- **Dictionary:** A collection of key-value pairs."
   ]
  },
  {
   "cell_type": "code",
   "execution_count": 4,
   "id": "8e71365f",
   "metadata": {},
   "outputs": [
    {
     "name": "stdout",
     "output_type": "stream",
     "text": [
      "First fruit: apple\n",
      "All fruits: ['apple', 'banana', 'cherry', 'orange']\n"
     ]
    }
   ],
   "source": [
    "fruits = [\"apple\", \"banana\", \"cherry\"]\n",
    "print(\"First fruit:\", fruits[0])\n",
    "fruits.append(\"orange\")\n",
    "print(\"All fruits:\", fruits)"
   ]
  },
  {
   "cell_type": "code",
   "execution_count": 5,
   "id": "0b8b608a",
   "metadata": {},
   "outputs": [
    {
     "name": "stdout",
     "output_type": "stream",
     "text": [
      "Name: Dana\n",
      "Person info: {'name': 'Dana', 'age': 30, 'city': 'Vancouver'}\n"
     ]
    }
   ],
   "source": [
    "person = {\"name\": \"Dana\", \"age\": 30}\n",
    "print(\"Name:\", person[\"name\"])\n",
    "person[\"city\"] = \"Vancouver\"\n",
    "print(\"Person info:\", person)"
   ]
  },
  {
   "cell_type": "markdown",
   "id": "16a814c4",
   "metadata": {},
   "source": [
    "**Exercise:**\n",
    "Create a list of three animals and print the second one.\n",
    "Create a dictionary for a book with keys: `title`, `author`, and `year`."
   ]
  },
  {
   "cell_type": "markdown",
   "id": "efd70b50",
   "metadata": {},
   "source": [
    "## 6. Simple Input/Output\n",
    "Use `input()` to get user input (as a string)."
   ]
  },
  {
   "cell_type": "code",
   "execution_count": null,
   "id": "e72ca1a2",
   "metadata": {},
   "outputs": [],
   "source": [
    "# Uncomment and run this cell to try input\n",
    "name = input(\"What is your name? \")\n",
    "print(\"Hello,\", name)"
   ]
  },
  {
   "cell_type": "markdown",
   "id": "2332a748",
   "metadata": {},
   "source": [
    "**Exercise:**\n",
    "Ask the user for their favorite food and print a message with it."
   ]
  },
  {
   "cell_type": "markdown",
   "id": "867e6490",
   "metadata": {},
   "source": [
    "## 7. Basic Plotting with matplotlib\n",
    "Let's make a simple plot!"
   ]
  },
  {
   "cell_type": "code",
   "execution_count": null,
   "id": "474a97f7",
   "metadata": {},
   "outputs": [],
   "source": [
    "import matplotlib.pyplot as plt\n",
    "\n",
    "x = [1, 2, 3, 4, 5]\n",
    "y = [2, 4, 6, 8, 10]\n",
    "\n",
    "plt.plot(x, y)\n",
    "plt.title(\"A Simple Line Plot\")\n",
    "plt.xlabel(\"x\")\n",
    "plt.ylabel(\"y\")\n",
    "plt.show()"
   ]
  },
  {
   "cell_type": "markdown",
   "id": "ada17619",
   "metadata": {},
   "source": [
    "**Exercise:**\n",
    "Change the values of `x` and `y` to plot a different line."
   ]
  }
 ],
 "metadata": {
  "kernelspec": {
   "display_name": "base",
   "language": "python",
   "name": "python3"
  },
  "language_info": {
   "codemirror_mode": {
    "name": "ipython",
    "version": 3
   },
   "file_extension": ".py",
   "mimetype": "text/x-python",
   "name": "python",
   "nbconvert_exporter": "python",
   "pygments_lexer": "ipython3",
   "version": "3.13.5"
  }
 },
 "nbformat": 4,
 "nbformat_minor": 5
}
